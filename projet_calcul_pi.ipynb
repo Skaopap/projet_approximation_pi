{
 "cells": [
  {
   "cell_type": "markdown",
   "metadata": {},
   "source": [
    "**Approximation du nombre $\\pi$**\n",
    "==================\n",
    "\n",
    "Le nombre $\\pi$ est un nombre qui a toujours fasciné les mathématiciens,\n",
    "notamment sa suite infine de décimales. C'est une des constantes les\n",
    "plus importantes en mathématiques, que l'on retrouve dans différentes\n",
    "formules qui régissent les lois de l'univers, en géométrie,\n",
    "probabilités, trigonométrie, intégration, physique, ingénierie, et bien\n",
    "sûr en informatique. Disposer d'une approximation numérique de ce nombre\n",
    "devient alors une nécessité pour les scientifiques, ingénieurs,\n",
    "enseignants et étudiants. Comme vu en cours et TD, certains nombres\n",
    "réels ne sont pas calculables par une Machine de Turing. Malheureusement,\n",
    "c'est le cas pour le nombre $\\pi$.\n",
    "\n",
    "\n",
    "Le but ce projet est de présenter quelques méthodes, basées sur\n",
    "deux principes mathématiques différents, pour calculer une approximation\n",
    "du nombre $\\pi$. Certaines méthodes peuvent être plus ou moins efficaces\n",
    "(convergence, précision) en fonction du nombre d'itérations, et il\n",
    "pourrait être intéressant de pouvoir étudier ces différences."
   ]
  },
  {
   "attachments": {
    "image_pi.png": {
     "image/png": "[encoded data removed]"
    }
   },
   "cell_type": "markdown",
   "metadata": {},
   "source": [
    "Méthode des séries\n",
    "==================\n",
    "\n",
    "Somme des inverses des carrés\n",
    "-----------------------------\n",
    "\n",
    "Dans cette sous-section on s'intéresse à la convergence de la série\n",
    "$\\sum \\frac{1}{n^2}$, et on se propose de (re)démontrer que cette série\n",
    "converge vers $\\frac{\\pi^2}{6}$. Pour ce faire, on utilise le\n",
    "développement en série de Fourier d'une fonction $f$ définie par le\n",
    "graphique suivant :\n",
    "![image_pi.png](attachment:image_pi.png)"
   ]
  },
  {
   "cell_type": "markdown",
   "metadata": {},
   "source": [
    "La fonction $f$ est 2$\\pi$-périodique, valant 1 sur l'intervalle\n",
    "$]0,\\pi[$, $-1$ sur l'intervalle $]-\\pi,0[$, et vérifiant\n",
    "$f(-\\pi)=f(0)=f(\\pi)=0$. Le développement en série de Fourier $S_N(f)$\n",
    "de la fonction $f$ est défini (dans sa variante réelle) par :\n",
    "\n",
    "$$S_N(f) = a_0 + \\sum_{n=1}^{N} a_n \\cos(nt) + \\sum_{n=1}^{N} b_n \\sin(nt)$$\n",
    "\n",
    "avec $\\forall n \\in \\mathbb{N}^*$\n",
    "\n",
    "$$a_0 = \\frac{1}{2\\pi} \\int_{0}^{2\\pi} f(t) dt$$\n",
    "$$a_n = \\frac{2}{2\\pi} \\int_{0}^{2\\pi} f(t) \\cos(nt) dt$$\n",
    "$$b_n  = \\frac{2}{2\\pi} \\int_{0}^{2\\pi} f(t) \\sin(nt) dt$$\n",
    "\n",
    "1.  Montrer que $a_0 = 0$, et que $\\forall n \\geqslant 1$, $a_n=0$ et\n",
    "    $b_n = \\dfrac{4}{2\\pi} \\left( \\dfrac{1 - \\cos(n\\pi)}{n} \\right)$"
   ]
  },
  {
   "cell_type": "markdown",
   "metadata": {},
   "source": []
  },
  {
   "cell_type": "markdown",
   "metadata": {},
   "source": [
    "2.  En étudiant la parité de $n$, en déduire que pour tout entier\n",
    "    naturel $p$, $b_{2p} = 0$ et $b_{2p+1} = \\dfrac{4}{(2p+1)\\pi}$"
   ]
  },
  {
   "cell_type": "markdown",
   "metadata": {},
   "source": []
  },
  {
   "cell_type": "markdown",
   "metadata": {},
   "source": [
    "3.  On rappelle le Théorème de Parseval :\n",
    "\n",
    "    Soit $f$ une fonction continue par morceau, et 2$\\pi$-périodique.\n",
    "    Alors on a l'égalité suivante :\n",
    "    $$\\frac{1}{2\\pi} \\int_{0}^{2\\pi}|f(t)|^2dt=  |a_0|^2 + \\frac{1}{2} \\left( \\sum_{n=1}^{+\\infty}|a_n|^2 + |b_n|^2 \\right)$$\n",
    "    vec $a_n$ et $b_n$ désignant les coefficients de Fourier réels de\n",
    "    $f$.\n",
    "\n",
    "    En appliquant le théorème de Parseval à la fonction $f$,\n",
    "    montrer que $$\\label{serie2}\n",
    "    \\sum_{p=0}^{+\\infty} \\dfrac{1}{(2p+1)^2} = \\dfrac{\\pi^2}{8}$$\n",
    "    Cette série sera appelée la *série impaire*."
   ]
  },
  {
   "cell_type": "markdown",
   "metadata": {},
   "source": []
  },
  {
   "cell_type": "markdown",
   "metadata": {},
   "source": [
    "4.  En remarquant que\n",
    "    $$\\sum_{n=1}^{2N} \\frac{1}{n^2} = \\sum_{p=1}^{N} \\frac{1}{(2p)^2} + \\sum_{p=0}^{N-1} \\frac{1}{(2p+1)^2}$$\n",
    "\n",
    "    , en simplifiant l'expression puis en passant à la limite en\n",
    "    l'infini, montrer que :\n",
    "\n",
    "    $$\\sum_{n=1}^{+\\infty} \\frac{1}{n^2} = \\frac{1}{4} \\sum_{n=1}^{+\\infty} \\frac{1}{n^2} + \\frac{\\pi^2}{8}$$"
   ]
  },
  {
   "cell_type": "markdown",
   "metadata": {},
   "source": []
  },
  {
   "cell_type": "markdown",
   "metadata": {},
   "source": [
    "5.  Finalement, en déduirela valeur de la *série paire*\n",
    "\n",
    "    $$\\label{serie1}\n",
    "     \\sum_{n=1}^{+\\infty} \\frac{1}{n^2}$$"
   ]
  },
  {
   "cell_type": "markdown",
   "metadata": {},
   "source": []
  },
  {
   "cell_type": "markdown",
   "metadata": {},
   "source": [
    "Implémentations\n",
    "---------------\n",
    "\n",
    "1.  Implémenter une fonction *SerieInvCarres(N)* renvoyant calculant les\n",
    "    $N$ premiers termes de la somme $$\\sum_{n=1}^{N} \\frac{1}{n^2}$$"
   ]
  },
  {
   "cell_type": "code",
   "execution_count": 4,
   "metadata": {},
   "outputs": [
    {
     "data": {
      "text/plain": [
       "1.25"
      ]
     },
     "execution_count": 4,
     "metadata": {},
     "output_type": "execute_result"
    }
   ],
   "source": [
    "def SerieInvCarres(p_iPremiersTermes) :\n",
    "    l_fSum = 0\n",
    "    for l_index in range (1, p_iPremiersTermes + 1 ) :\n",
    "        l_fSum += (1/pow(l_index,2))\n",
    "    return l_fSum\n",
    "\n",
    "SerieInvCarres(2)"
   ]
  },
  {
   "cell_type": "markdown",
   "metadata": {},
   "source": [
    "2.  En utilisant l'équation *série paire*, implémenter une fonction\n",
    "    *MethodeSerieInvCarres(N)* renvoyant une approximation du nombre\n",
    "    $\\pi$."
   ]
  },
  {
   "cell_type": "code",
   "execution_count": 5,
   "metadata": {},
   "outputs": [
    {
     "data": {
      "text/plain": [
       "3.1414971543976273"
      ]
     },
     "execution_count": 5,
     "metadata": {},
     "output_type": "execute_result"
    }
   ],
   "source": [
    "import math\n",
    "\n",
    "def MethodeSerieInvCarres(p_iPremiersTermes) :\n",
    "    return math.sqrt(6*SerieInvCarres(p_iPremiersTermes))\n",
    "\n",
    "MethodeSerieInvCarres(9999)"
   ]
  },
  {
   "cell_type": "markdown",
   "metadata": {},
   "source": [
    "3.  Implémenter une fonction *SerieInvCarresImparis(N)* renvoyant\n",
    "    calculant les $N$ premiers termes de la somme\n",
    "    $$\\sum_{n=0}^{N} \\frac{1}{(2n+1)^2}$$"
   ]
  },
  {
   "cell_type": "code",
   "execution_count": 6,
   "metadata": {},
   "outputs": [
    {
     "data": {
      "text/plain": [
       "1.1511111111111112"
      ]
     },
     "execution_count": 6,
     "metadata": {},
     "output_type": "execute_result"
    }
   ],
   "source": [
    "def SerieInvCarresImpaires(p_iPremiersTermes):\n",
    "    l_fSum = 0\n",
    "    for l_index in range (0 , p_iPremiersTermes + 1):\n",
    "        l_fSum += 1/pow((2*l_index)+1,2)\n",
    "    return l_fSum\n",
    "\n",
    "SerieInvCarresImpaires(2)"
   ]
  },
  {
   "cell_type": "markdown",
   "metadata": {},
   "source": [
    "4.  En utilisant l'équation *série impaire*, implémenter une fonction\n",
    "    *MethodeSerieInvCarresImparis(N)* renvoyant une approximation du\n",
    "    nombre $\\pi$."
   ]
  },
  {
   "cell_type": "code",
   "execution_count": 7,
   "metadata": {},
   "outputs": [
    {
     "data": {
      "text/plain": [
       "3.1415608224399487"
      ]
     },
     "execution_count": 7,
     "metadata": {},
     "output_type": "execute_result"
    }
   ],
   "source": [
    "def MethodeSerieInvCarresImpaires(p_iPremiersTermes) :\n",
    "    return math.sqrt(8*SerieInvCarresImpaires(p_iPremiersTermes))\n",
    "\n",
    "MethodeSerieInvCarresImpaires(9999)"
   ]
  },
  {
   "cell_type": "markdown",
   "metadata": {},
   "source": [
    "5.  Pour chacune des deux méthodes ci-dessus, tracer la courbe\n",
    "    représentant l'évolution de $|MethodeSerieXXX(N) - \\pi|$ en fonction\n",
    "    de $N$"
   ]
  },
  {
   "cell_type": "code",
   "execution_count": 8,
   "metadata": {},
   "outputs": [
    {
     "data": {
      "image/png": "[encoded data removed]",
      "text/plain": [
       "<Figure size 1080x432 with 1 Axes>"
      ]
     },
     "metadata": {
      "needs_background": "light"
     },
     "output_type": "display_data"
    }
   ],
   "source": [
    "from sympy import *\n",
    "import numpy as np\n",
    "\n",
    "# pour tracer des courbes\n",
    "import matplotlib.pyplot as plt\n",
    "\n",
    "# Créer un tableau echantillonné sur tab_x , différence en valeur absolue à pi\n",
    "methodSample_y = lambda function,tab_x : [abs(function(int(index))-np.pi) for index in tab_x]\n",
    "\n",
    "\n",
    "def plotMethodeSeries(p_iPremiersTermes):\n",
    "    global_x = np.linspace(0, p_iPremiersTermes, p_iPremiersTermes)\n",
    "    \n",
    "    paire_y = methodSample_y(MethodeSerieInvCarres,global_x)\n",
    "\n",
    "    impaire_y = methodSample_y(MethodeSerieInvCarresImpaires,global_x)\n",
    "\n",
    "    plt.figure(figsize=(15, 6))\n",
    "    plt.plot(global_x, paire_y, linewidth=1 , color='crimson' ,label='$MethodePaire$')\n",
    "    plt.plot(global_x, impaire_y, linewidth=1 , color='blue' ,label='$MethodeImpaire$')\n",
    "    plt.title('Evolution de MethodeSerieXXXX en fonction de N')\n",
    "    plt.grid()\n",
    "    plt.axis([0, p_iPremiersTermes, -1, 1])\n",
    "    plt.legend()\n",
    "    plt.show()\n",
    "    \n",
    "plotMethodeSeries(100)"
   ]
  },
  {
   "cell_type": "markdown",
   "metadata": {},
   "source": [
    "6.  Pour chacune des deux méthodes ci-dessus, combien faut-il de termes\n",
    "    $N$ dans la somme pour obtenir une approximation de $\\pi$ avec une\n",
    "    précision de l'ordre de $10^{-4}$ ?"
   ]
  },
  {
   "cell_type": "code",
   "execution_count": 12,
   "metadata": {},
   "outputs": [
    {
     "name": "stdout",
     "output_type": "stream",
     "text": [
      "Methode Paire il faut 9549 termes à 10^-4\n",
      "Methode Impaire il faut 3183 termes à 10^-4\n"
     ]
    }
   ],
   "source": [
    "def giveMeTheN(p_tab,p_Precision):\n",
    "    out_N = 0\n",
    "    for l_Value in p_tab :\n",
    "        if (l_Value <= pow(10,-p_Precision)):\n",
    "            return out_N\n",
    "        out_N+=1\n",
    "    print (\"Il faut plus de valeurs.\")\n",
    "    return out_N\n",
    "\n",
    "def findNumberOf_N_Needed(p_iPremiersTermes,p_Precision):\n",
    "    global_x = np.linspace(0, p_iPremiersTermes, p_iPremiersTermes)\n",
    "    \n",
    "    # Methode Paire\n",
    "    paire_y = methodSample_y(MethodeSerieInvCarres,global_x)\n",
    "    \n",
    "    l_N = giveMeTheN(paire_y,p_Precision)\n",
    "        \n",
    "    print (\"Methode Paire il faut \" + str(l_N) + \" termes à 10^-\" + str(p_Precision))\n",
    "    \n",
    "    # Methode Impaire\n",
    "    impaire_y = methodSample_y(MethodeSerieInvCarresImpaires,global_x)\n",
    "    \n",
    "    l_N = giveMeTheN(impaire_y,p_Precision)\n",
    "    \n",
    "    print (\"Methode Impaire il faut \" + str(l_N) + \" termes à 10^-\" + str(p_Precision))\n",
    "    \n",
    "        \n",
    "findNumberOf_N_Needed(9600,4)\n",
    "# Methode Paire il faut 9549 termes à 10^-4\n",
    "# Methode Impaire il faut 3183 termes à 10^-4"
   ]
  },
  {
   "cell_type": "markdown",
   "metadata": {},
   "source": [
    "7.  Le célèbre mathématicien Ramanujan proposa, de manière\n",
    "    quasi-magique, un certain nombre de formules permettant d'approximer\n",
    "    le nombre $\\pi$. Une des formules proposées peut s'énoncer comme\n",
    "    suit :\n",
    "    $${\\frac {1}{\\pi }}={\\frac {2{\\sqrt {2}}}{9801}}\\displaystyle \\sum _{n=0}^{\\infty }{\\frac {(4n)!}{(n!)^{4}}}\\times {\\frac {1103+26390n}{(4\\times 99)^{4n}}}$$\n",
    "    Implémenter une fonction *MethodeSerieRamanujan(N)*, basée sur cette\n",
    "    équation, renvoyant une approximation du nombre $\\pi$."
   ]
  },
  {
   "cell_type": "code",
   "execution_count": 14,
   "metadata": {},
   "outputs": [
    {
     "data": {
      "text/plain": [
       "3.141592653589793"
      ]
     },
     "execution_count": 14,
     "metadata": {},
     "output_type": "execute_result"
    }
   ],
   "source": [
    "def MethodeSerieRamanujan(p_iPremiersTermes):\n",
    "    l_fSum = 0\n",
    "    l_fConst = (2/9801)*math.sqrt(2)\n",
    "    \n",
    "    for l_index in range (0,p_iPremiersTermes + 1) :\n",
    "        l_fSum += (math.factorial(4*l_index) / pow(math.factorial(l_index),4)) * ((1103+26390*l_index)/(pow(4*99,4*l_index)))\n",
    "        \n",
    "    return 1/(l_fConst*l_fSum)\n",
    "\n",
    "MethodeSerieRamanujan(100)"
   ]
  },
  {
   "cell_type": "markdown",
   "metadata": {},
   "source": [
    "8.  Déterminer combien cette méthode fournit de décimales\n",
    "    supplémentaires à $\\pi$ à chaque nouveau terme de la série."
   ]
  },
  {
   "cell_type": "code",
   "execution_count": 15,
   "metadata": {
    "scrolled": true
   },
   "outputs": [
    {
     "name": "stdout",
     "output_type": "stream",
     "text": [
      "Rang 0 : 3.1415927300133055 / Nouvelles décimales trouvées : 8\n",
      "Rang 1 : 3.1415926535897936 / Nouvelles décimales trouvées : 7\n",
      "Rang 2 : 3.141592653589793 / Nouvelles décimales trouvées : 0\n",
      "WE FOUND PI !\n"
     ]
    }
   ],
   "source": [
    "#from decimal import *\n",
    "#decimal.getcontext().prec = 100\n",
    "# Raison obscure, ça ne marche pas ..\n",
    "\n",
    "def PrintRamanunjan(p_iPremiersTermes):\n",
    "    \n",
    "    # declare\n",
    "    l_iDecimalFound = 0\n",
    "    l_bFlagPiFound = False\n",
    "    \n",
    "    for l_index in range (0, p_iPremiersTermes + 1) :\n",
    "        \n",
    "        # init\n",
    "        l_iNewDecimal = 0\n",
    "        l_fValue = MethodeSerieRamanujan(l_index)\n",
    "        \n",
    "        # loop to find the number of new decimals\n",
    "        while True :\n",
    "            \n",
    "            if(round(l_fValue,l_iNewDecimal) == round(np.pi,l_iNewDecimal)):\n",
    "                \n",
    "                l_iNewDecimal += 1\n",
    "                \n",
    "                # Avoid infinite loop\n",
    "                if(round(l_fValue,l_iNewDecimal) == np.pi):\n",
    "                    l_bFlagPiFound = True\n",
    "                    break\n",
    "                                 \n",
    "            else :\n",
    "                break\n",
    "            \n",
    "        print (\"Rang \" + str(l_index) + \" : \" + str(l_fValue) + \" / Nouvelles décimales trouvées : \" + str(l_iNewDecimal - l_iDecimalFound))\n",
    "        l_iDecimalFound = l_iNewDecimal\n",
    "        \n",
    "        if (l_bFlagPiFound):\n",
    "            print (\"WE FOUND PI !\")\n",
    "            break\n",
    "\n",
    "PrintRamanunjan(20)\n",
    "#Rang 0 : 3.1415927300133055 / Nouvelles décimales trouvées : 8\n",
    "#Rang 1 : 3.1415926535897936 / Nouvelles décimales trouvées : 7\n",
    "#Rang 2 : 3.141592653589793 / Nouvelles décimales trouvées : 0\n",
    "#WE FOUND PI !\n",
    "# Commentaire : np.pi est utilisé pour le calcul, il n'est peut être pas assez précis, seulement 15 chiffres après la virgule"
   ]
  },
  {
   "cell_type": "markdown",
   "metadata": {},
   "source": [
    "9.  Discuter et comparer l'efficacité des trois méthodes présentées\n",
    "    ci-dessus. Quels peuvent être les avantages et les inconvénients de\n",
    "    chacune ?"
   ]
  },
  {
   "cell_type": "markdown",
   "metadata": {},
   "source": []
  },
  {
   "cell_type": "markdown",
   "metadata": {},
   "source": [
    "Méthode de Monte-Carlo\n",
    "======================\n",
    "\n",
    "\\\"Le terme \\\"méthode de Monte-Carlo\\\", ou \\\"méthode Monte-Carlo\\\",\n",
    "désigne une famille de méthodes algorithmiques visant à calculer une\n",
    "valeur numérique approchée en utilisant des procédés aléatoires,\n",
    "c'est-à-dire des techniques probabilistes. Le nom de ces méthodes, qui\n",
    "fait allusion aux jeux de hasard pratiqués à Monte-Carlo, a été inventé\n",
    "en 1947 par Nicholas Metropolis.\\\"\n",
    "\n",
    " \n",
    "\n",
    "On se propose d'utiliser cette méthode pour obtenir une approximation du\n",
    "nombre $\\pi$. Considérons $\\mathcal{D}$ la portion de disque définie par :\n",
    "\n",
    "$$\\mathcal{D} = \\{ (x,y) \\in \\mathbb{R}^{+} ~|~ x^2 + y^2 \\leqslant 1 \\}$$\n",
    "\n",
    "Le principe de la méthode est de choisir aléatoirement un grand nombre\n",
    "de points dans le carré $[0,1]\\times [0,1]$ et d'observer combien de ces\n",
    "points se situent dans le quart de disque $\\mathcal{D}$. On notera $n$\n",
    "le nombre de points tirés, et $k_n$ le nombre de ces points qui se\n",
    "situent dans $\\mathcal{D}$."
   ]
  },
  {
   "cell_type": "markdown",
   "metadata": {},
   "source": [
    "1.  Déterminer l'aire de la portion de disque $\\mathcal{D}$. En se\n",
    "    basant sur le calcul précédent, quel à votre avis la valeur de\n",
    "    $\\lim\\limits_{n \\to \\infty} \\frac{k_n}{n}$ ?"
   ]
  },
  {
   "cell_type": "markdown",
   "metadata": {},
   "source": [
    "aire de la portion D : pi/4\n",
    "la valeur de cette limite tend vers pi/4, a priori"
   ]
  },
  {
   "cell_type": "markdown",
   "metadata": {},
   "source": [
    "2.  Implémenter une fonction *Tirage(n)* permettant de tirer $n$ points\n",
    "    dans $[0,1]\\times [0,1]$ et de calculer $\\frac{k_n}{n}$."
   ]
  },
  {
   "cell_type": "code",
   "execution_count": 16,
   "metadata": {},
   "outputs": [
    {
     "data": {
      "text/plain": [
       "0.7857"
      ]
     },
     "execution_count": 16,
     "metadata": {},
     "output_type": "execute_result"
    }
   ],
   "source": [
    "import random\n",
    "\n",
    "def randomPoints(p_N):\n",
    "    \n",
    "    l_aPoints = []\n",
    "    \n",
    "    for l_index in range (0,p_N) :\n",
    "        \n",
    "        l_aNewPoint = [random.random(),random.random()]\n",
    "        l_aPoints.append(l_aNewPoint)\n",
    "    \n",
    "    return l_aPoints\n",
    "\n",
    "def isInCircle(p_aPoints):\n",
    "    if ( (pow(p_aPoints[0],2)+pow(p_aPoints[1],2)) <= 1 ) :\n",
    "        return True\n",
    "    else :\n",
    "        return False\n",
    "\n",
    "def Tirage(p_N):\n",
    "    \n",
    "    l_aPoints = randomPoints(p_N)\n",
    "    \n",
    "    l_Kn = 0 \n",
    "    \n",
    "    for l_Point in l_aPoints :\n",
    "        if ( isInCircle(l_Point) ) :\n",
    "            l_Kn+=1\n",
    "            \n",
    "    return l_Kn/p_N\n",
    "    \n",
    "Tirage(10000)"
   ]
  },
  {
   "cell_type": "markdown",
   "metadata": {},
   "source": [
    "3.  Représenter le carré $[0,1]\\times [0,1]$, le disque $\\mathcal{D}$\n",
    "    (ou seulement le cercle associé), et le tirage des $n$ points, en\n",
    "    colorant de manière différente les points à l'intérieur et à\n",
    "    l'extérieur du disque $\\mathcal{D}$."
   ]
  },
  {
   "cell_type": "code",
   "execution_count": 17,
   "metadata": {},
   "outputs": [
    {
     "data": {
      "image/png": "[encoded data removed]",
      "text/plain": [
       "<Figure size 1080x1080 with 1 Axes>"
      ]
     },
     "metadata": {
      "needs_background": "light"
     },
     "output_type": "display_data"
    }
   ],
   "source": [
    "def plotSquareAndPoints(p_N):\n",
    "      \n",
    "    # Declare array     \n",
    "    x_good = []\n",
    "    y_good = []\n",
    "    x_bad = []\n",
    "    y_bad = []\n",
    "    \n",
    "    l_aPoints = randomPoints(p_N)\n",
    "\n",
    "    # Fill arrays\n",
    "    for l_Point in l_aPoints :\n",
    "        if(isInCircle(l_Point)):\n",
    "            x_good.append(l_Point[0])\n",
    "            y_good.append(l_Point[1])\n",
    "        else :\n",
    "            x_bad.append(l_Point[0])\n",
    "            y_bad.append(l_Point[1])\n",
    "\n",
    "    # Plot\n",
    "    plt.figure(figsize=(15, 15))\n",
    "    circle = plt.Circle((0, 0), 1, color='r')\n",
    "    plt.gcf().gca().add_artist(circle)\n",
    "    plt.plot(x_good, y_good, 'o' , color='black')\n",
    "    plt.plot(x_bad, y_bad, 'o' , color='green')\n",
    "    plt.title('Repartition des points dans le carré')\n",
    "    plt.grid()\n",
    "    plt.axis([0, 1, 0 , 1])\n",
    "    plt.show()\n",
    "    \n",
    "plotSquareAndPoints(100)"
   ]
  },
  {
   "cell_type": "markdown",
   "metadata": {},
   "source": [
    "4.  Implémenter une fonction *MonteCarlo(n)* renvoyant une approximation\n",
    "    de $\\pi$."
   ]
  },
  {
   "cell_type": "code",
   "execution_count": 18,
   "metadata": {},
   "outputs": [
    {
     "data": {
      "text/plain": [
       "3.13652"
      ]
     },
     "execution_count": 18,
     "metadata": {},
     "output_type": "execute_result"
    }
   ],
   "source": [
    "def MonteCarlo(p_N):\n",
    "    return 4*Tirage(p_N)\n",
    "\n",
    "MonteCarlo(100000)"
   ]
  },
  {
   "cell_type": "markdown",
   "metadata": {},
   "source": [
    "5.  Représenter sous forme de nuage de points la quantité\n",
    "    $|MonteCarlo(n) - \\pi|$ en fonction de $n$. La méthode\n",
    "    converge-t-elle ? Dans quel sens ?"
   ]
  },
  {
   "cell_type": "code",
   "execution_count": 24,
   "metadata": {},
   "outputs": [
    {
     "data": {
      "image/png": "[encoded data removed]",
      "text/plain": [
       "<Figure size 1440x432 with 1 Axes>"
      ]
     },
     "metadata": {
      "needs_background": "light"
     },
     "output_type": "display_data"
    }
   ],
   "source": [
    "def plotMonteCarlo(p_N):\n",
    "    global_x = np.linspace(1, p_N, p_N - 1)\n",
    "    \n",
    "    MonteCarlo_y = methodSample_y(MonteCarlo,global_x)\n",
    "    \n",
    "    plt.figure(figsize=(20, 6))\n",
    "    plt.plot(global_x, MonteCarlo_y, 'o' , color='crimson' ,label='$Methode de Monte Carlo$')\n",
    "    plt.title('Evolution de MonteCarlo en fonction de N')\n",
    "    plt.grid()\n",
    "    plt.axis([0, p_N, -3, 3])\n",
    "    plt.legend()\n",
    "    plt.show()\n",
    "    \n",
    "plotMonteCarlo(500)"
   ]
  },
  {
   "cell_type": "markdown",
   "metadata": {},
   "source": []
  },
  {
   "cell_type": "markdown",
   "metadata": {},
   "source": [
    "6.  Combien faut-il tirer de points $n$ (en moyenne) pour obtenir une\n",
    "    approximation de $\\pi$ avec une précision de l'ordre de $10^{-4}$ ?"
   ]
  },
  {
   "cell_type": "code",
   "execution_count": 32,
   "metadata": {},
   "outputs": [],
   "source": [
    "def findAverageN_MonteCarlo(l_iNumberOfLoop):\n",
    "    \n",
    "    # Store value\n",
    "    l_aN = []\n",
    "    \n",
    "    for l_index in range (0,l_iNumberOfLoop):\n",
    "        \n",
    "        l_fValue = 0\n",
    "        l_N = 0\n",
    "        \n",
    "        # Search for pi value at 10-4\n",
    "        while (round(l_fValue,4) != round(np.pi,4)):\n",
    "            l_N+=1\n",
    "            l_fValue = MonteCarlo(l_N)\n",
    "            \n",
    "        l_aN.append(l_N)\n",
    "        \n",
    "        #to see progression\n",
    "        if(l_index%10 == 0) :\n",
    "            print(l_index)\n",
    "        \n",
    "    # Calcul Average N\n",
    "    l_iSum = 0\n",
    "    for l_iValue in l_aN :\n",
    "        l_iSum += l_iValue\n",
    "        \n",
    "    return l_iSum/l_iNumberOfLoop\n",
    "\n",
    "findAverageN_MonteCarlo(100)\n",
    "#1270.58 en moyenne (sur 100 boucles)\n",
    "#1283.83 en moyenne (sur 1000 boucles)"
   ]
  },
  {
   "cell_type": "markdown",
   "metadata": {},
   "source": []
  },
  {
   "cell_type": "markdown",
   "metadata": {},
   "source": [
    "7.  Quels sont les inconvénients et les avantages de cette méthode par\n",
    "    rapport aux méthodes des séries ?"
   ]
  },
  {
   "cell_type": "markdown",
   "metadata": {},
   "source": []
  },
  {
   "cell_type": "markdown",
   "metadata": {},
   "source": [
    "Ouverture\n",
    "=========\n",
    "\n",
    "-   Citer au moins une autre méthode (basée sur un principe mathématique\n",
    "    différent) permettant d'approximer le nombre $\\pi$ et expliquer\n",
    "    brièvement son principe."
   ]
  },
  {
   "cell_type": "markdown",
   "metadata": {},
   "source": []
  },
  {
   "cell_type": "markdown",
   "metadata": {},
   "source": [
    "-   (Bonus -- Pour les plus passionnés) Imaginer une nouvelle méthode\n",
    "    permettant d'obtenir une approximation du nombre $\\pi$."
   ]
  },
  {
   "cell_type": "markdown",
   "metadata": {},
   "source": []
  },
  {
   "cell_type": "markdown",
   "metadata": {},
   "source": [
    "Rendu du projet\n",
    "===============\n",
    "\n",
    "Le travail sur ce projet est à faire par binôme (2 personnes maximum).\n",
    "Le travail sera restitué sous la forme d'un Notebook.\n",
    "Le projet est à rendre sur Moodle.\n",
    "\n",
    "\n",
    "\n",
    "Le Notebook doit répondre à toutes les questions\n",
    "posées dans l'énoncé, implémenter les algorithmes demandés,\n",
    "et si cela s'avère nécessaire expliquer comment ces algorithmes\n",
    "ont été implémentés en pratique.\n",
    "Le Notebook se terminera par une discussion des résultats\n",
    "et une conclusion.\n",
    "La qualité, propreté et clarté de la rédaction seront pris en compte."
   ]
  }
 ],
 "metadata": {
  "kernelspec": {
   "display_name": "Python 3",
   "language": "python",
   "name": "python3"
  },
  "language_info": {
   "codemirror_mode": {
    "name": "ipython",
    "version": 3
   },
   "file_extension": ".py",
   "mimetype": "text/x-python",
   "name": "python",
   "nbconvert_exporter": "python",
   "pygments_lexer": "ipython3",
   "version": "3.7.4"
  }
 },
 "nbformat": 4,
 "nbformat_minor": 2
}
